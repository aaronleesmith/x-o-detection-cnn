{
 "cells": [
  {
   "cell_type": "code",
   "execution_count": 121,
   "metadata": {},
   "outputs": [],
   "source": [
    "import cv2 as cv\n",
    "import numpy as np\n",
    "import math"
   ]
  },
  {
   "cell_type": "code",
   "execution_count": 180,
   "metadata": {},
   "outputs": [],
   "source": [
    "IMG_SIZE = 100\n",
    "CENTER = math.floor(IMG_SIZE / 2.0)"
   ]
  },
  {
   "cell_type": "code",
   "execution_count": 186,
   "metadata": {},
   "outputs": [],
   "source": [
    "def random_offset(std = 10):\n",
    "    return int(np.max([0, int(np.random.normal(0, std))]))\n",
    "\n",
    "# Creates an X which can vary in its position and size.\n",
    "def make_x(iteration, offset_std = 10, size_std = 3):\n",
    "    x = np.zeros(IMG_SIZE * IMG_SIZE).reshape(IMG_SIZE, IMG_SIZE)\n",
    "    \n",
    "    # Draw a line diagonally top left to bottom right.\n",
    "    # The positions sampled from a distribution which prefers the no offset but can err up to std.\n",
    "    x = cv.line(x, (0 + random_offset(offset_std), 0 + random_offset(offset_std)), (IMG_SIZE, IMG_SIZE), 255, 1 + random_offset(size_std))\n",
    "    \n",
    "    # Draw a line diagonally top right to bottom left.\n",
    "    x = cv.line(x, (IMG_SIZE - random_offset(offset_std), 0 + random_offset(offset_std)), ( 0 + random_offset(offset_std), IMG_SIZE - random_offset(offset_std)), 255, 1 + random_offset(size_std))\n",
    "    cv.imwrite('x_{}.png'.format(iteration), x)\n",
    "    \n",
    "    return x\n",
    "    \n",
    "def make_o(iteration, center_std = 10, radius_std = 10, size_std = 10):\n",
    "    o = np.zeros(IMG_SIZE * IMG_SIZE).reshape(IMG_SIZE, IMG_SIZE)\n",
    "    o = cv.circle(o, (CENTER + random_offset(center_std), CENTER + random_offset(center_std)), np.min([CENTER, CENTER - random_offset(radius_std)]), 255,  1 + random_offset(size_std))\n",
    "    cv.imwrite('o_{}.png'.format(iteration), o)\n",
    "    \n",
    "    return o\n",
    "\n",
    "def skew(arr, )"
   ]
  },
  {
   "cell_type": "code",
   "execution_count": 187,
   "metadata": {},
   "outputs": [
    {
     "data": {
      "text/plain": [
       "(50, 63)"
      ]
     },
     "execution_count": 187,
     "metadata": {},
     "output_type": "execute_result"
    }
   ],
   "source": [
    "(CENTER + random_offset(10), CENTER + random_offset(10))"
   ]
  },
  {
   "cell_type": "code",
   "execution_count": 189,
   "metadata": {},
   "outputs": [],
   "source": [
    "for i in range(50):\n",
    "    make_x(i, 10)\n",
    "    \n",
    "for i in range(50):\n",
    "    make_o(i, 10, 20, 3)"
   ]
  },
  {
   "cell_type": "code",
   "execution_count": 170,
   "metadata": {},
   "outputs": [],
   "source": [
    "M = cv.getRotationMatrix2D((4, 4), 45, 1)\n",
    "x_r = cv.warpAffine(x, M, (9, 9))\n",
    "o_r = cv.warpAffine(o, M, (9, 9))"
   ]
  },
  {
   "cell_type": "code",
   "execution_count": 111,
   "metadata": {},
   "outputs": [
    {
     "data": {
      "text/plain": [
       "array([[0.        , 0.        , 0.        , 0.05859375, 0.73632812,\n",
       "        0.05859375, 0.        , 0.        , 0.        ],\n",
       "       [0.        , 0.        , 0.        , 0.06347656, 0.78125   ,\n",
       "        0.06347656, 0.        , 0.        , 0.        ],\n",
       "       [0.        , 0.        , 0.        , 0.        , 0.51757812,\n",
       "        0.        , 0.        , 0.        , 0.        ],\n",
       "       [0.05859375, 0.07617188, 0.        , 0.        , 0.59570312,\n",
       "        0.        , 0.        , 0.06347656, 0.05859375],\n",
       "       [0.6953125 , 0.78125   , 0.51757812, 0.59570312, 1.        ,\n",
       "        0.59570312, 0.51757812, 0.78125   , 0.73632812],\n",
       "       [0.05859375, 0.07617188, 0.        , 0.        , 0.59570312,\n",
       "        0.        , 0.        , 0.06347656, 0.05859375],\n",
       "       [0.        , 0.        , 0.        , 0.        , 0.51757812,\n",
       "        0.        , 0.        , 0.        , 0.        ],\n",
       "       [0.        , 0.        , 0.        , 0.06347656, 0.78125   ,\n",
       "        0.06347656, 0.        , 0.        , 0.        ],\n",
       "       [0.        , 0.        , 0.        , 0.05859375, 0.73632812,\n",
       "        0.05859375, 0.        , 0.        , 0.        ]])"
      ]
     },
     "execution_count": 111,
     "metadata": {},
     "output_type": "execute_result"
    }
   ],
   "source": [
    "x_r"
   ]
  },
  {
   "cell_type": "code",
   "execution_count": 112,
   "metadata": {},
   "outputs": [
    {
     "data": {
      "text/plain": [
       "array([[0.        , 0.01757812, 0.        , 0.41015625, 0.26367188,\n",
       "        0.41015625, 0.        , 0.01757812, 0.        ],\n",
       "       [0.01757812, 0.75      , 0.48632812, 0.84375   , 0.21875   ,\n",
       "        0.84375   , 0.48632812, 0.75      , 0.01757812],\n",
       "       [0.        , 0.48632812, 0.        , 0.08984375, 0.        ,\n",
       "        0.08984375, 0.        , 0.48632812, 0.        ],\n",
       "       [0.41015625, 0.8125    , 0.08984375, 0.        , 0.        ,\n",
       "        0.        , 0.08984375, 0.84375   , 0.41015625],\n",
       "       [0.3046875 , 0.21875   , 0.        , 0.        , 0.        ,\n",
       "        0.        , 0.        , 0.21875   , 0.26367188],\n",
       "       [0.41015625, 0.8125    , 0.08984375, 0.        , 0.        ,\n",
       "        0.        , 0.08984375, 0.84375   , 0.41015625],\n",
       "       [0.        , 0.48632812, 0.        , 0.08984375, 0.        ,\n",
       "        0.08984375, 0.        , 0.48632812, 0.        ],\n",
       "       [0.01757812, 0.75      , 0.48632812, 0.84375   , 0.21875   ,\n",
       "        0.84375   , 0.48632812, 0.75      , 0.01757812],\n",
       "       [0.        , 0.01757812, 0.        , 0.41015625, 0.26367188,\n",
       "        0.41015625, 0.        , 0.01757812, 0.        ]])"
      ]
     },
     "execution_count": 112,
     "metadata": {},
     "output_type": "execute_result"
    }
   ],
   "source": [
    "o_r"
   ]
  },
  {
   "cell_type": "code",
   "execution_count": null,
   "metadata": {},
   "outputs": [],
   "source": []
  }
 ],
 "metadata": {
  "kernelspec": {
   "display_name": "Python 3",
   "language": "python",
   "name": "python3"
  },
  "language_info": {
   "codemirror_mode": {
    "name": "ipython",
    "version": 3
   },
   "file_extension": ".py",
   "mimetype": "text/x-python",
   "name": "python",
   "nbconvert_exporter": "python",
   "pygments_lexer": "ipython3",
   "version": "3.8.5"
  }
 },
 "nbformat": 4,
 "nbformat_minor": 4
}
